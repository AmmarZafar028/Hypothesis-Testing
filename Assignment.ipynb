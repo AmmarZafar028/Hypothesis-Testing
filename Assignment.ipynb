{
 "cells": [
  {
   "cell_type": "markdown",
   "metadata": {},
   "source": [
    "## **ASSIGNMENT**"
   ]
  },
  {
   "cell_type": "markdown",
   "metadata": {},
   "source": [
    "### ***Using the salamander data from the following***:\n",
    "\n",
    "### - **Plot 3 scatter plots for each stage of salamander(larvae,metamorph and adult), comparing the plasma cortisol concentration and water cortisone per length(SVL)***\n",
    "\n",
    "### - ***Calculate the Spearman\"s correlation coefficient for each comparison that you ploted in the graphs from above***\n",
    "\n"
   ]
  },
  {
   "cell_type": "markdown",
   "metadata": {},
   "source": [
    "### ***Import Libraries***"
   ]
  },
  {
   "cell_type": "code",
   "execution_count": 1,
   "metadata": {},
   "outputs": [],
   "source": [
    "import pandas as pd\n",
    "import matplotlib.pyplot as plt\n",
    "import seaborn as sns\n",
    "import numpy as np"
   ]
  },
  {
   "cell_type": "markdown",
   "metadata": {},
   "source": [
    "### ***Load Dataset*** "
   ]
  },
  {
   "cell_type": "code",
   "execution_count": 2,
   "metadata": {},
   "outputs": [
    {
     "data": {
      "text/html": [
       "<div>\n",
       "<style scoped>\n",
       "    .dataframe tbody tr th:only-of-type {\n",
       "        vertical-align: middle;\n",
       "    }\n",
       "\n",
       "    .dataframe tbody tr th {\n",
       "        vertical-align: top;\n",
       "    }\n",
       "\n",
       "    .dataframe thead th {\n",
       "        text-align: right;\n",
       "    }\n",
       "</style>\n",
       "<table border=\"1\" class=\"dataframe\">\n",
       "  <thead>\n",
       "    <tr style=\"text-align: right;\">\n",
       "      <th></th>\n",
       "      <th>Stage</th>\n",
       "      <th>Date</th>\n",
       "      <th>ID</th>\n",
       "      <th>Weight g</th>\n",
       "      <th>TL mm</th>\n",
       "      <th>SVL mm</th>\n",
       "      <th>Test</th>\n",
       "      <th>Plasma ng/ml</th>\n",
       "      <th>Total water-borne CORT pg/h (background subtracted)</th>\n",
       "      <th>Water-borne CORT pg/SVL/h</th>\n",
       "      <th>Water-borne CORT pg/g/h</th>\n",
       "      <th>Sex</th>\n",
       "      <th>Unnamed: 12</th>\n",
       "    </tr>\n",
       "  </thead>\n",
       "  <tbody>\n",
       "    <tr>\n",
       "      <th>0</th>\n",
       "      <td>Metamorph</td>\n",
       "      <td>26/7/2017</td>\n",
       "      <td>2</td>\n",
       "      <td>0.74</td>\n",
       "      <td>51</td>\n",
       "      <td>31</td>\n",
       "      <td>Baseline</td>\n",
       "      <td>35.39</td>\n",
       "      <td>10.5</td>\n",
       "      <td>0.338710</td>\n",
       "      <td>14.189189</td>\n",
       "      <td>NaN</td>\n",
       "      <td>NaN</td>\n",
       "    </tr>\n",
       "    <tr>\n",
       "      <th>1</th>\n",
       "      <td>Metamorph</td>\n",
       "      <td>26/7/2017</td>\n",
       "      <td>3</td>\n",
       "      <td>0.9</td>\n",
       "      <td>55</td>\n",
       "      <td>33</td>\n",
       "      <td>Baseline</td>\n",
       "      <td>20.59</td>\n",
       "      <td>0.0</td>\n",
       "      <td>0.000000</td>\n",
       "      <td>0.000000</td>\n",
       "      <td>NaN</td>\n",
       "      <td>NaN</td>\n",
       "    </tr>\n",
       "    <tr>\n",
       "      <th>2</th>\n",
       "      <td>Metamorph</td>\n",
       "      <td>26/7/2017</td>\n",
       "      <td>4</td>\n",
       "      <td>0.63</td>\n",
       "      <td>48</td>\n",
       "      <td>30</td>\n",
       "      <td>Baseline</td>\n",
       "      <td>12.82</td>\n",
       "      <td>3.5</td>\n",
       "      <td>0.116667</td>\n",
       "      <td>5.555556</td>\n",
       "      <td>NaN</td>\n",
       "      <td>NaN</td>\n",
       "    </tr>\n",
       "    <tr>\n",
       "      <th>3</th>\n",
       "      <td>Larvae with gills</td>\n",
       "      <td>26/7/2017</td>\n",
       "      <td>5</td>\n",
       "      <td>0.59</td>\n",
       "      <td>45</td>\n",
       "      <td>28</td>\n",
       "      <td>Baseline</td>\n",
       "      <td>20.62</td>\n",
       "      <td>216.0</td>\n",
       "      <td>7.714286</td>\n",
       "      <td>366.101695</td>\n",
       "      <td>NaN</td>\n",
       "      <td>NaN</td>\n",
       "    </tr>\n",
       "    <tr>\n",
       "      <th>4</th>\n",
       "      <td>Larvae with gills</td>\n",
       "      <td>26/7/2017</td>\n",
       "      <td>6</td>\n",
       "      <td>1.13</td>\n",
       "      <td>50</td>\n",
       "      <td>33</td>\n",
       "      <td>Baseline</td>\n",
       "      <td>23.21</td>\n",
       "      <td>331.5</td>\n",
       "      <td>10.045455</td>\n",
       "      <td>293.362832</td>\n",
       "      <td>NaN</td>\n",
       "      <td>NaN</td>\n",
       "    </tr>\n",
       "    <tr>\n",
       "      <th>5</th>\n",
       "      <td>Larvae with gills</td>\n",
       "      <td>26/7/2017</td>\n",
       "      <td>7</td>\n",
       "      <td>0.72</td>\n",
       "      <td>44</td>\n",
       "      <td>29</td>\n",
       "      <td>Baseline</td>\n",
       "      <td>42.67</td>\n",
       "      <td>263.5</td>\n",
       "      <td>9.086207</td>\n",
       "      <td>365.972222</td>\n",
       "      <td>NaN</td>\n",
       "      <td>NaN</td>\n",
       "    </tr>\n",
       "    <tr>\n",
       "      <th>6</th>\n",
       "      <td>Larvae with gills</td>\n",
       "      <td>26/7/2017</td>\n",
       "      <td>8</td>\n",
       "      <td>0.83</td>\n",
       "      <td>49</td>\n",
       "      <td>33</td>\n",
       "      <td>Baseline</td>\n",
       "      <td>23.50</td>\n",
       "      <td>76.5</td>\n",
       "      <td>2.318182</td>\n",
       "      <td>92.168675</td>\n",
       "      <td>NaN</td>\n",
       "      <td>NaN</td>\n",
       "    </tr>\n",
       "    <tr>\n",
       "      <th>7</th>\n",
       "      <td>Larvae with gills</td>\n",
       "      <td>27/7/2017</td>\n",
       "      <td>9</td>\n",
       "      <td>0.86</td>\n",
       "      <td>50</td>\n",
       "      <td>33</td>\n",
       "      <td>Baseline</td>\n",
       "      <td>7.84</td>\n",
       "      <td>150.0</td>\n",
       "      <td>4.545455</td>\n",
       "      <td>174.418605</td>\n",
       "      <td>NaN</td>\n",
       "      <td>NaN</td>\n",
       "    </tr>\n",
       "    <tr>\n",
       "      <th>8</th>\n",
       "      <td>Larvae with gills</td>\n",
       "      <td>27/7/2017</td>\n",
       "      <td>10</td>\n",
       "      <td>0.72</td>\n",
       "      <td>48</td>\n",
       "      <td>30</td>\n",
       "      <td>Baseline</td>\n",
       "      <td>11.36</td>\n",
       "      <td>117.0</td>\n",
       "      <td>3.900000</td>\n",
       "      <td>162.500000</td>\n",
       "      <td>NaN</td>\n",
       "      <td>NaN</td>\n",
       "    </tr>\n",
       "    <tr>\n",
       "      <th>9</th>\n",
       "      <td>Larvae with gills</td>\n",
       "      <td>27/7/2017</td>\n",
       "      <td>11</td>\n",
       "      <td>0.62</td>\n",
       "      <td>46</td>\n",
       "      <td>29</td>\n",
       "      <td>Baseline</td>\n",
       "      <td>67.04</td>\n",
       "      <td>67.5</td>\n",
       "      <td>2.327586</td>\n",
       "      <td>108.870968</td>\n",
       "      <td>NaN</td>\n",
       "      <td>NaN</td>\n",
       "    </tr>\n",
       "  </tbody>\n",
       "</table>\n",
       "</div>"
      ],
      "text/plain": [
       "               Stage       Date  ID Weight g  TL mm  SVL mm      Test  \\\n",
       "0          Metamorph  26/7/2017   2     0.74     51      31  Baseline   \n",
       "1          Metamorph  26/7/2017   3      0.9     55      33  Baseline   \n",
       "2          Metamorph  26/7/2017   4     0.63     48      30  Baseline   \n",
       "3  Larvae with gills  26/7/2017   5     0.59     45      28  Baseline   \n",
       "4  Larvae with gills  26/7/2017   6     1.13     50      33  Baseline   \n",
       "5  Larvae with gills  26/7/2017   7     0.72     44      29  Baseline   \n",
       "6  Larvae with gills  26/7/2017   8     0.83     49      33  Baseline   \n",
       "7  Larvae with gills  27/7/2017   9     0.86     50      33  Baseline   \n",
       "8  Larvae with gills  27/7/2017  10     0.72     48      30  Baseline   \n",
       "9  Larvae with gills  27/7/2017  11     0.62     46      29  Baseline   \n",
       "\n",
       "   Plasma ng/ml  Total water-borne CORT pg/h (background subtracted)  \\\n",
       "0         35.39                                               10.5     \n",
       "1         20.59                                                0.0     \n",
       "2         12.82                                                3.5     \n",
       "3         20.62                                              216.0     \n",
       "4         23.21                                              331.5     \n",
       "5         42.67                                              263.5     \n",
       "6         23.50                                               76.5     \n",
       "7          7.84                                              150.0     \n",
       "8         11.36                                              117.0     \n",
       "9         67.04                                               67.5     \n",
       "\n",
       "   Water-borne CORT pg/SVL/h  Water-borne CORT pg/g/h  Sex  Unnamed: 12  \n",
       "0                   0.338710                14.189189  NaN          NaN  \n",
       "1                   0.000000                 0.000000  NaN          NaN  \n",
       "2                   0.116667                 5.555556  NaN          NaN  \n",
       "3                   7.714286               366.101695  NaN          NaN  \n",
       "4                  10.045455               293.362832  NaN          NaN  \n",
       "5                   9.086207               365.972222  NaN          NaN  \n",
       "6                   2.318182                92.168675  NaN          NaN  \n",
       "7                   4.545455               174.418605  NaN          NaN  \n",
       "8                   3.900000               162.500000  NaN          NaN  \n",
       "9                   2.327586               108.870968  NaN          NaN  "
      ]
     },
     "execution_count": 2,
     "metadata": {},
     "output_type": "execute_result"
    }
   ],
   "source": [
    "df = pd.read_csv('Millikin_2019_CORT_validation_data.csv')\n",
    "df.head(10)"
   ]
  },
  {
   "cell_type": "markdown",
   "metadata": {},
   "source": [
    "### ***Checking Null Values***"
   ]
  },
  {
   "cell_type": "code",
   "execution_count": 3,
   "metadata": {},
   "outputs": [
    {
     "data": {
      "text/plain": [
       "Stage                                                   0\n",
       "Date                                                    0\n",
       "ID                                                      0\n",
       "Weight g                                                0\n",
       "TL mm                                                   0\n",
       "SVL mm                                                  0\n",
       "Test                                                    0\n",
       "Plasma ng/ml                                            0\n",
       "Total water-borne CORT pg/h (background subtracted)     0\n",
       "Water-borne CORT pg/SVL/h                               0\n",
       "Water-borne CORT pg/g/h                                 1\n",
       "Sex                                                    29\n",
       "Unnamed: 12                                            57\n",
       "dtype: int64"
      ]
     },
     "execution_count": 3,
     "metadata": {},
     "output_type": "execute_result"
    }
   ],
   "source": [
    "# Checking null values\n",
    "df.isnull().sum()"
   ]
  },
  {
   "cell_type": "markdown",
   "metadata": {},
   "source": [
    "# **Now we are making a scatter plot**"
   ]
  },
  {
   "cell_type": "markdown",
   "metadata": {},
   "source": [
    "# Comparing Water-borne CORT pg/SVL/h and Stage #"
   ]
  },
  {
   "cell_type": "code",
   "execution_count": 4,
   "metadata": {},
   "outputs": [
    {
     "data": {
      "text/plain": [
       "<AxesSubplot:xlabel='Water-borne CORT pg/SVL/h', ylabel='Stage'>"
      ]
     },
     "execution_count": 4,
     "metadata": {},
     "output_type": "execute_result"
    },
    {
     "data": {
      "image/png": "[encoded data removed]",
      "text/plain": [
       "<Figure size 468x468 with 1 Axes>"
      ]
     },
     "metadata": {},
     "output_type": "display_data"
    }
   ],
   "source": [
    "sns.set_style('whitegrid')\n",
    "\n",
    "# Draw a scatter plot while assigning point colors and sizes to different\n",
    "\n",
    "f, ax=plt.subplots(figsize=(6.5,6.5))\n",
    "sns.despine(f, left=True, bottom=True)\n",
    "sns.scatterplot(x = \"Water-borne CORT pg/SVL/h\", y = \"Stage\",hue = \"Weight g\", sizes=(20, 200), alpha=.5, palette=\"muted\", data=df,ax=ax)"
   ]
  },
  {
   "cell_type": "markdown",
   "metadata": {},
   "source": [
    "# **Comparing Plasma ng/ml and Stage**"
   ]
  },
  {
   "cell_type": "code",
   "execution_count": 5,
   "metadata": {},
   "outputs": [
    {
     "data": {
      "text/plain": [
       "<AxesSubplot:xlabel='Plasma ng/ml', ylabel='Stage'>"
      ]
     },
     "execution_count": 5,
     "metadata": {},
     "output_type": "execute_result"
    },
    {
     "data": {
      "image/png": "[encoded data removed]",
      "text/plain": [
       "<Figure size 468x468 with 1 Axes>"
      ]
     },
     "metadata": {},
     "output_type": "display_data"
    }
   ],
   "source": [
    "sns.set_style('whitegrid')\n",
    "\n",
    "# Draw a scatter plot while assigning point colors and sizes to different\n",
    "\n",
    "f, ax=plt.subplots(figsize=(6.5,6.5))\n",
    "sns.despine(f, left=True, bottom=True)\n",
    "sns.scatterplot(x = \"Plasma ng/ml\", y = \"Stage\",hue = \"TL mm\", sizes=(20, 200), alpha=.5, palette=\"muted\", data=df,ax=ax)"
   ]
  },
  {
   "cell_type": "markdown",
   "metadata": {},
   "source": [
    "### ***Comparing Stage and Water-borne CORT pg/g/h***"
   ]
  },
  {
   "cell_type": "code",
   "execution_count": 6,
   "metadata": {},
   "outputs": [
    {
     "data": {
      "text/plain": [
       "<AxesSubplot:xlabel='Water-borne CORT pg/g/h', ylabel='Stage'>"
      ]
     },
     "execution_count": 6,
     "metadata": {},
     "output_type": "execute_result"
    },
    {
     "data": {
      "image/png": "[encoded data removed]",
      "text/plain": [
       "<Figure size 468x468 with 1 Axes>"
      ]
     },
     "metadata": {},
     "output_type": "display_data"
    }
   ],
   "source": [
    "sns.set_style('whitegrid')\n",
    "\n",
    "# Draw a scatter plot while assigning point colors and sizes to different\n",
    "\n",
    "f, ax=plt.subplots(figsize=(6.5,6.5))\n",
    "sns.despine(f, left=True, bottom=True)\n",
    "sns.scatterplot(x = \"Water-borne CORT pg/g/h\", y = \"Stage\",hue = \"SVL mm\", sizes=(20, 200), alpha=.5, palette=\"muted\", data=df,ax=ax)"
   ]
  },
  {
   "cell_type": "markdown",
   "metadata": {},
   "source": [
    "# **We are Checking Correlation**"
   ]
  },
  {
   "cell_type": "code",
   "execution_count": 7,
   "metadata": {},
   "outputs": [
    {
     "name": "stderr",
     "output_type": "stream",
     "text": [
      "c:\\Users\\hp\\AppData\\Local\\Programs\\Python\\Python310\\lib\\site-packages\\pandas\\io\\formats\\style.py:3554: RuntimeWarning: All-NaN slice encountered\n",
      "  smin = np.nanmin(gmap) if vmin is None else vmin\n",
      "c:\\Users\\hp\\AppData\\Local\\Programs\\Python\\Python310\\lib\\site-packages\\pandas\\io\\formats\\style.py:3555: RuntimeWarning: All-NaN slice encountered\n",
      "  smax = np.nanmax(gmap) if vmax is None else vmax\n"
     ]
    },
    {
     "data": {
      "text/html": [
       "<style type=\"text/css\">\n",
       "#T_1dae6_row0_col0, #T_1dae6_row0_col1, #T_1dae6_row1_col0, #T_1dae6_row1_col1, #T_1dae6_row2_col2, #T_1dae6_row3_col3, #T_1dae6_row3_col4, #T_1dae6_row4_col3, #T_1dae6_row4_col4, #T_1dae6_row5_col5 {\n",
       "  background-color: #666666;\n",
       "  color: #f1f1f1;\n",
       "}\n",
       "#T_1dae6_row0_col2, #T_1dae6_row0_col5, #T_1dae6_row1_col2, #T_1dae6_row1_col5, #T_1dae6_row2_col0, #T_1dae6_row2_col1, #T_1dae6_row2_col3, #T_1dae6_row2_col4, #T_1dae6_row3_col2, #T_1dae6_row4_col2 {\n",
       "  background-color: #7fc97f;\n",
       "  color: #000000;\n",
       "}\n",
       "#T_1dae6_row0_col3, #T_1dae6_row1_col3, #T_1dae6_row3_col0, #T_1dae6_row3_col1 {\n",
       "  background-color: #bf5b17;\n",
       "  color: #f1f1f1;\n",
       "}\n",
       "#T_1dae6_row0_col4, #T_1dae6_row1_col4, #T_1dae6_row4_col0, #T_1dae6_row4_col1, #T_1dae6_row5_col4 {\n",
       "  background-color: #f0027f;\n",
       "  color: #f1f1f1;\n",
       "}\n",
       "#T_1dae6_row0_col6, #T_1dae6_row1_col6, #T_1dae6_row2_col6, #T_1dae6_row3_col6, #T_1dae6_row4_col6, #T_1dae6_row5_col6, #T_1dae6_row6_col0, #T_1dae6_row6_col1, #T_1dae6_row6_col2, #T_1dae6_row6_col3, #T_1dae6_row6_col4, #T_1dae6_row6_col5, #T_1dae6_row6_col6 {\n",
       "  background-color: #000000;\n",
       "  color: #f1f1f1;\n",
       "}\n",
       "#T_1dae6_row2_col5 {\n",
       "  background-color: #fdc086;\n",
       "  color: #000000;\n",
       "}\n",
       "#T_1dae6_row3_col5, #T_1dae6_row5_col2 {\n",
       "  background-color: #ffff99;\n",
       "  color: #000000;\n",
       "}\n",
       "#T_1dae6_row4_col5, #T_1dae6_row5_col3 {\n",
       "  background-color: #386cb0;\n",
       "  color: #f1f1f1;\n",
       "}\n",
       "#T_1dae6_row5_col0, #T_1dae6_row5_col1 {\n",
       "  background-color: #beaed4;\n",
       "  color: #000000;\n",
       "}\n",
       "</style>\n",
       "<table id=\"T_1dae6\">\n",
       "  <thead>\n",
       "    <tr>\n",
       "      <th class=\"blank level0\" >&nbsp;</th>\n",
       "      <th id=\"T_1dae6_level0_col0\" class=\"col_heading level0 col0\" >TL mm</th>\n",
       "      <th id=\"T_1dae6_level0_col1\" class=\"col_heading level0 col1\" >SVL mm</th>\n",
       "      <th id=\"T_1dae6_level0_col2\" class=\"col_heading level0 col2\" >Plasma ng/ml</th>\n",
       "      <th id=\"T_1dae6_level0_col3\" class=\"col_heading level0 col3\" >Total water-borne CORT pg/h (background subtracted)</th>\n",
       "      <th id=\"T_1dae6_level0_col4\" class=\"col_heading level0 col4\" >Water-borne CORT pg/SVL/h</th>\n",
       "      <th id=\"T_1dae6_level0_col5\" class=\"col_heading level0 col5\" >Water-borne CORT pg/g/h</th>\n",
       "      <th id=\"T_1dae6_level0_col6\" class=\"col_heading level0 col6\" >Unnamed: 12</th>\n",
       "    </tr>\n",
       "  </thead>\n",
       "  <tbody>\n",
       "    <tr>\n",
       "      <th id=\"T_1dae6_level0_row0\" class=\"row_heading level0 row0\" >TL mm</th>\n",
       "      <td id=\"T_1dae6_row0_col0\" class=\"data row0 col0\" >1.000000</td>\n",
       "      <td id=\"T_1dae6_row0_col1\" class=\"data row0 col1\" >0.965157</td>\n",
       "      <td id=\"T_1dae6_row0_col2\" class=\"data row0 col2\" >-0.579364</td>\n",
       "      <td id=\"T_1dae6_row0_col3\" class=\"data row0 col3\" >0.728002</td>\n",
       "      <td id=\"T_1dae6_row0_col4\" class=\"data row0 col4\" >0.515713</td>\n",
       "      <td id=\"T_1dae6_row0_col5\" class=\"data row0 col5\" >-0.287978</td>\n",
       "      <td id=\"T_1dae6_row0_col6\" class=\"data row0 col6\" >nan</td>\n",
       "    </tr>\n",
       "    <tr>\n",
       "      <th id=\"T_1dae6_level0_row1\" class=\"row_heading level0 row1\" >SVL mm</th>\n",
       "      <td id=\"T_1dae6_row1_col0\" class=\"data row1 col0\" >0.965157</td>\n",
       "      <td id=\"T_1dae6_row1_col1\" class=\"data row1 col1\" >1.000000</td>\n",
       "      <td id=\"T_1dae6_row1_col2\" class=\"data row1 col2\" >-0.577547</td>\n",
       "      <td id=\"T_1dae6_row1_col3\" class=\"data row1 col3\" >0.736827</td>\n",
       "      <td id=\"T_1dae6_row1_col4\" class=\"data row1 col4\" >0.516795</td>\n",
       "      <td id=\"T_1dae6_row1_col5\" class=\"data row1 col5\" >-0.266092</td>\n",
       "      <td id=\"T_1dae6_row1_col6\" class=\"data row1 col6\" >nan</td>\n",
       "    </tr>\n",
       "    <tr>\n",
       "      <th id=\"T_1dae6_level0_row2\" class=\"row_heading level0 row2\" >Plasma ng/ml</th>\n",
       "      <td id=\"T_1dae6_row2_col0\" class=\"data row2 col0\" >-0.579364</td>\n",
       "      <td id=\"T_1dae6_row2_col1\" class=\"data row2 col1\" >-0.577547</td>\n",
       "      <td id=\"T_1dae6_row2_col2\" class=\"data row2 col2\" >1.000000</td>\n",
       "      <td id=\"T_1dae6_row2_col3\" class=\"data row2 col3\" >-0.649258</td>\n",
       "      <td id=\"T_1dae6_row2_col4\" class=\"data row2 col4\" >-0.513085</td>\n",
       "      <td id=\"T_1dae6_row2_col5\" class=\"data row2 col5\" >0.151341</td>\n",
       "      <td id=\"T_1dae6_row2_col6\" class=\"data row2 col6\" >nan</td>\n",
       "    </tr>\n",
       "    <tr>\n",
       "      <th id=\"T_1dae6_level0_row3\" class=\"row_heading level0 row3\" >Total water-borne CORT pg/h (background subtracted)</th>\n",
       "      <td id=\"T_1dae6_row3_col0\" class=\"data row3 col0\" >0.728002</td>\n",
       "      <td id=\"T_1dae6_row3_col1\" class=\"data row3 col1\" >0.736827</td>\n",
       "      <td id=\"T_1dae6_row3_col2\" class=\"data row3 col2\" >-0.649258</td>\n",
       "      <td id=\"T_1dae6_row3_col3\" class=\"data row3 col3\" >1.000000</td>\n",
       "      <td id=\"T_1dae6_row3_col4\" class=\"data row3 col4\" >0.934962</td>\n",
       "      <td id=\"T_1dae6_row3_col5\" class=\"data row3 col5\" >0.292529</td>\n",
       "      <td id=\"T_1dae6_row3_col6\" class=\"data row3 col6\" >nan</td>\n",
       "    </tr>\n",
       "    <tr>\n",
       "      <th id=\"T_1dae6_level0_row4\" class=\"row_heading level0 row4\" >Water-borne CORT pg/SVL/h</th>\n",
       "      <td id=\"T_1dae6_row4_col0\" class=\"data row4 col0\" >0.515713</td>\n",
       "      <td id=\"T_1dae6_row4_col1\" class=\"data row4 col1\" >0.516795</td>\n",
       "      <td id=\"T_1dae6_row4_col2\" class=\"data row4 col2\" >-0.513085</td>\n",
       "      <td id=\"T_1dae6_row4_col3\" class=\"data row4 col3\" >0.934962</td>\n",
       "      <td id=\"T_1dae6_row4_col4\" class=\"data row4 col4\" >1.000000</td>\n",
       "      <td id=\"T_1dae6_row4_col5\" class=\"data row4 col5\" >0.496938</td>\n",
       "      <td id=\"T_1dae6_row4_col6\" class=\"data row4 col6\" >nan</td>\n",
       "    </tr>\n",
       "    <tr>\n",
       "      <th id=\"T_1dae6_level0_row5\" class=\"row_heading level0 row5\" >Water-borne CORT pg/g/h</th>\n",
       "      <td id=\"T_1dae6_row5_col0\" class=\"data row5 col0\" >-0.287978</td>\n",
       "      <td id=\"T_1dae6_row5_col1\" class=\"data row5 col1\" >-0.266092</td>\n",
       "      <td id=\"T_1dae6_row5_col2\" class=\"data row5 col2\" >0.151341</td>\n",
       "      <td id=\"T_1dae6_row5_col3\" class=\"data row5 col3\" >0.292529</td>\n",
       "      <td id=\"T_1dae6_row5_col4\" class=\"data row5 col4\" >0.496938</td>\n",
       "      <td id=\"T_1dae6_row5_col5\" class=\"data row5 col5\" >1.000000</td>\n",
       "      <td id=\"T_1dae6_row5_col6\" class=\"data row5 col6\" >nan</td>\n",
       "    </tr>\n",
       "    <tr>\n",
       "      <th id=\"T_1dae6_level0_row6\" class=\"row_heading level0 row6\" >Unnamed: 12</th>\n",
       "      <td id=\"T_1dae6_row6_col0\" class=\"data row6 col0\" >nan</td>\n",
       "      <td id=\"T_1dae6_row6_col1\" class=\"data row6 col1\" >nan</td>\n",
       "      <td id=\"T_1dae6_row6_col2\" class=\"data row6 col2\" >nan</td>\n",
       "      <td id=\"T_1dae6_row6_col3\" class=\"data row6 col3\" >nan</td>\n",
       "      <td id=\"T_1dae6_row6_col4\" class=\"data row6 col4\" >nan</td>\n",
       "      <td id=\"T_1dae6_row6_col5\" class=\"data row6 col5\" >nan</td>\n",
       "      <td id=\"T_1dae6_row6_col6\" class=\"data row6 col6\" >nan</td>\n",
       "    </tr>\n",
       "  </tbody>\n",
       "</table>\n"
      ],
      "text/plain": [
       "<pandas.io.formats.style.Styler at 0x251edae0460>"
      ]
     },
     "execution_count": 7,
     "metadata": {},
     "output_type": "execute_result"
    }
   ],
   "source": [
    "corr = df.corr(method='spearman')   # Correlation range from 1 to -1\n",
    "corr.style.background_gradient(cmap='Accent')"
   ]
  },
  {
   "cell_type": "markdown",
   "metadata": {},
   "source": [
    "### ***Calculate Spearman Correlation between Plasma ng/ml and Water-borne CORT pg/SVL/h***"
   ]
  },
  {
   "cell_type": "code",
   "execution_count": 8,
   "metadata": {},
   "outputs": [
    {
     "name": "stdout",
     "output_type": "stream",
     "text": [
      "spearmanr correlation:-0.513\n"
     ]
    }
   ],
   "source": [
    "from scipy.stats import spearmanr\n",
    "corr, _ =spearmanr(df[\"Plasma ng/ml\"],df[\"Water-borne CORT pg/SVL/h\"])\n",
    "print(\"spearmanr correlation:%.3f\" % corr)"
   ]
  },
  {
   "cell_type": "markdown",
   "metadata": {},
   "source": [
    "### ***Calculate Spearman Correlation between Plasma ng/ml and Stage***"
   ]
  },
  {
   "cell_type": "code",
   "execution_count": 9,
   "metadata": {},
   "outputs": [
    {
     "name": "stdout",
     "output_type": "stream",
     "text": [
      "spearmanr correlation:0.701\n"
     ]
    }
   ],
   "source": [
    "# Calculate spearman correlation\n",
    "from scipy.stats import spearmanr\n",
    "corr, _ =spearmanr(df[\"Plasma ng/ml\"],df[\"Stage\"])\n",
    "print(\"spearmanr correlation:%.3f\" % corr)"
   ]
  },
  {
   "cell_type": "markdown",
   "metadata": {},
   "source": [
    "### ***Calculate Spearman Correlation between Water-borne CORT pg/g/h and Stage***"
   ]
  },
  {
   "cell_type": "code",
   "execution_count": 10,
   "metadata": {},
   "outputs": [
    {
     "name": "stdout",
     "output_type": "stream",
     "text": [
      "spearmanr correlation:-0.079\n"
     ]
    }
   ],
   "source": [
    "# Calculate spearman correlation\n",
    "from scipy.stats import spearmanr\n",
    "corr, _ =spearmanr(df[\"Water-borne CORT pg/g/h\"],df[\"Stage\"])\n",
    "print(\"spearmanr correlation:%.3f\" % corr)"
   ]
  },
  {
   "cell_type": "markdown",
   "metadata": {},
   "source": [
    "#                                      ***THE END***"
   ]
  }
 ],
 "metadata": {
  "kernelspec": {
   "display_name": "Python 3",
   "language": "python",
   "name": "python3"
  },
  "language_info": {
   "codemirror_mode": {
    "name": "ipython",
    "version": 3
   },
   "file_extension": ".py",
   "mimetype": "text/x-python",
   "name": "python",
   "nbconvert_exporter": "python",
   "pygments_lexer": "ipython3",
   "version": "3.10.1"
  },
  "orig_nbformat": 4
 },
 "nbformat": 4,
 "nbformat_minor": 2
}
